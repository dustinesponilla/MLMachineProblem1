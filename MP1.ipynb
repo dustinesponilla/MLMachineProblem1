{
 "cells": [
  {
   "cell_type": "markdown",
   "id": "b59318de-45ff-47c3-96df-d7019fe9b7c3",
   "metadata": {},
   "source": [
    "# Machine Problem 1: Parameter Estimation\n",
    "**Instructions:** Propose the best distribution that best models the given data. To be systematic, you may adopt the following methodology in presenting your results:\n",
    "- **Step 1.** Visualize the data using a histogram to determine the \"most likely\" distribution of the data.\n",
    "- **Step 2.** Determine the probability mass function (or probability density function) of the speculated discrete (or continuous) distribution.\n",
    "- **Step 3.a** Compute the parameters of the p.m.f. (or p.d.f) using:\n",
    "    - Method of Moments (MoM)\n",
    "    - Maximum Likelihood Estimation (MLE)\n",
    "- **Step 3.b** Determine if the MoM and MLE yield the same estimates. If the estimates are different, select either of the two and justify your choice.\n",
    "- **Step 4.a** Generate simulated data, $\\hat{X}$, by drawing random samples from the model (i.e., the distribution with the estimated parameters).\n",
    "- **Step 4.b** Compare the original data $X$ with the simulated data $\\hat{X}$ to check if they come from the same distribution.\n",
    "- **Step 5** If they come from the same distribution, propose the model. Otherwise, return to **<em>Step 2</em>**.\n",
    "\n",
    "You are provided with the following functions (written in JULIA) that can help you diagnose the model:\n",
    "- **<em>plot_reconstruction</em>** plots the original data against the simulated data.\n",
    "- **<em>get_p_val</em>** computes the p-value when comparing the original data and the simulated data using the <em>Approximate Two Sample Kolmogorov-Smirnov Test</em>. <em> Note: the null hypothesis of this test states that the compared groups are drawn from the same distribution.</em>\n",
    "- **<em>if_dist_different</em>** extends **<em>get_p_val</em>** with a decision on whether or not there is sufficient evidence to reject the null hypothesis."
   ]
  },
  {
   "cell_type": "markdown",
   "id": "aa526cb2",
   "metadata": {},
   "source": []
  },
  {
   "cell_type": "code",
   "execution_count": 1,
   "id": "901e7a58-9a9f-41d0-80d8-191f95d70c9d",
   "metadata": {},
   "outputs": [],
   "source": [
    "### Write the PMF and PDF here"
   ]
  },
  {
   "cell_type": "code",
   "execution_count": 2,
   "id": "2f732797-0709-4482-84f6-8cc620946e89",
   "metadata": {},
   "outputs": [
    {
     "data": {
      "text/plain": [
       "if_dist_different (generic function with 2 methods)"
      ]
     },
     "metadata": {},
     "output_type": "display_data"
    }
   ],
   "source": [
    "function plot_reconstruction(orig_data, recon_data, bins=100)\n",
    "    p_val = get_p_val(orig_data, recon_data)\n",
    "    if p_val < 0.0001\n",
    "        p_label = \"< 0.0001\"\n",
    "    else\n",
    "        p_label = \"=$p_val\"\n",
    "    end\n",
    "    p1 = histogram(orig_data, bins=bins, normalize=:true,color=:red, label=\"Original\")\n",
    "    p2 = histogram(recon_data, bins=bins, normalize=:true,color=:green, label=\"Reconstruction (p \"* p_label * \")\")\n",
    "    fig = plot(p1,p2, layout=(2,1))\n",
    "    display(fig)\n",
    "end\n",
    "\n",
    "function get_p_val(original, reconstruction,precision=3)\n",
    "    z = ApproximateTwoSampleKSTest(original, reconstruction)\n",
    "    p = pvalue(z)\n",
    "    return round(p, digits=precision)\n",
    "end\n",
    "\n",
    "function if_dist_different(original, reconstruction, alpha=0.05)\n",
    "    p = get_p_val(original, reconstruction)\n",
    "    if p <= alpha\n",
    "        if p >= 0.0001\n",
    "            print(\"The two distributions are significantly different (p = $p)\")\n",
    "        else\n",
    "            print(\"The two distributions are significantly different (p < 0.0001)\")\n",
    "        end\n",
    "    else\n",
    "        print(\"The two distributions are not significantly different (p = $p)\")   \n",
    "    end\n",
    "end"
   ]
  },
  {
   "cell_type": "code",
   "execution_count": 3,
   "id": "e2ed4c8b-5578-467a-9b17-86f90199c2dd",
   "metadata": {},
   "outputs": [
    {
     "ename": "ArgumentError",
     "evalue": "ArgumentError: Package Distributions not found in current path:\n- Run `import Pkg; Pkg.add(\"Distributions\")` to install the Distributions package.\n",
     "output_type": "error",
     "traceback": [
      "ArgumentError: Package Distributions not found in current path:\n",
      "- Run `import Pkg; Pkg.add(\"Distributions\")` to install the Distributions package.\n",
      "\n",
      "\n",
      "Stacktrace:\n",
      "  [1] require(into::Module, mod::Symbol)\n",
      "    @ Base .\\loading.jl:893\n",
      "  [2] eval\n",
      "    @ .\\boot.jl:360 [inlined]\n",
      "  [3] include_string(mapexpr::typeof(REPL.softscope), mod::Module, code::String, filename::String)\n",
      "    @ Base .\\loading.jl:1116\n",
      "  [4] #invokelatest#2\n",
      "    @ .\\essentials.jl:708 [inlined]\n",
      "  [5] invokelatest\n",
      "    @ .\\essentials.jl:706 [inlined]\n",
      "  [6] (::VSCodeServer.var\"#198#199\"{VSCodeServer.NotebookRunCellArguments, String})()\n",
      "    @ VSCodeServer c:\\Users\\Justine\\.vscode\\extensions\\julialang.language-julia-1.51.2\\scripts\\packages\\VSCodeServer\\src\\serve_notebook.jl:19\n",
      "  [7] withpath(f::VSCodeServer.var\"#198#199\"{VSCodeServer.NotebookRunCellArguments, String}, path::String)\n",
      "    @ VSCodeServer c:\\Users\\Justine\\.vscode\\extensions\\julialang.language-julia-1.51.2\\scripts\\packages\\VSCodeServer\\src\\repl.jl:274\n",
      "  [8] notebook_runcell_request(conn::VSCodeServer.JSONRPC.JSONRPCEndpoint{Base.PipeEndpoint, Base.PipeEndpoint}, params::VSCodeServer.NotebookRunCellArguments)\n",
      "    @ VSCodeServer c:\\Users\\Justine\\.vscode\\extensions\\julialang.language-julia-1.51.2\\scripts\\packages\\VSCodeServer\\src\\serve_notebook.jl:13\n",
      "  [9] dispatch_msg(x::VSCodeServer.JSONRPC.JSONRPCEndpoint{Base.PipeEndpoint, Base.PipeEndpoint}, dispatcher::VSCodeServer.JSONRPC.MsgDispatcher, msg::Dict{String, Any})\n",
      "    @ VSCodeServer.JSONRPC c:\\Users\\Justine\\.vscode\\extensions\\julialang.language-julia-1.51.2\\scripts\\packages\\JSONRPC\\src\\typed.jl:67\n",
      " [10] serve_notebook(pipename::String, outputchannel_logger::Base.CoreLogging.SimpleLogger; crashreporting_pipename::String)\n",
      "    @ VSCodeServer c:\\Users\\Justine\\.vscode\\extensions\\julialang.language-julia-1.51.2\\scripts\\packages\\VSCodeServer\\src\\serve_notebook.jl:139\n",
      " [11] top-level scope\n",
      "    @ c:\\Users\\Justine\\.vscode\\extensions\\julialang.language-julia-1.51.2\\scripts\\notebook\\notebook.jl:32"
     ]
    }
   ],
   "source": [
    "### This loads the libraries needed for this exercise\n",
    "using Distributions\n",
    "using Plots\n",
    "using CSV\n",
    "using DataFrames\n",
    "using HypothesisTests"
   ]
  },
  {
   "cell_type": "markdown",
   "id": "753889b0-6b4e-49e1-948f-747ae8447a0a",
   "metadata": {
    "tags": []
   },
   "source": [
    "## Example"
   ]
  },
  {
   "cell_type": "code",
   "execution_count": 4,
   "id": "7ce432cd-fc0b-49a1-9ca7-48b2a41854d9",
   "metadata": {},
   "outputs": [
    {
     "ename": "UndefVarError",
     "evalue": "UndefVarError: Normal not defined",
     "output_type": "error",
     "traceback": [
      "UndefVarError: Normal not defined\n",
      "\n",
      "Stacktrace:\n",
      " [1] top-level scope\n",
      "   @ c:\\Users\\Justine\\Desktop\\Codes\\173\\MP1.ipynb:1"
     ]
    }
   ],
   "source": [
    "norm_d = Normal(100, 15)\n",
    "num_samples = 10000\n",
    "X = rand(norm_d, num_samples);"
   ]
  },
  {
   "cell_type": "code",
   "execution_count": 5,
   "id": "0c42510c-64b1-47ba-9e1c-6448762cc525",
   "metadata": {},
   "outputs": [
    {
     "ename": "UndefVarError",
     "evalue": "UndefVarError: plot not defined",
     "output_type": "error",
     "traceback": [
      "UndefVarError: plot not defined\n",
      "\n",
      "Stacktrace:\n",
      " [1] top-level scope\n",
      "   @ c:\\Users\\Justine\\Desktop\\Codes\\173\\MP1.ipynb:2"
     ]
    }
   ],
   "source": [
    "## Step 1\n",
    "fig1 = plot()\n",
    "histogram(X,bins=100)"
   ]
  },
  {
   "cell_type": "code",
   "execution_count": 6,
   "id": "dddee6ca-d47a-415b-9474-2f0268b0662a",
   "metadata": {},
   "outputs": [],
   "source": [
    "## Step 2: \"data is likely normal\"..Use the p.d.f. of the univariate normal dist."
   ]
  },
  {
   "cell_type": "code",
   "execution_count": 7,
   "id": "52a8323a-5e6b-4489-aad3-b040bb8a0745",
   "metadata": {},
   "outputs": [
    {
     "data": {
      "text/plain": [
       "mle_std_normal (generic function with 1 method)"
      ]
     },
     "metadata": {},
     "output_type": "display_data"
    }
   ],
   "source": [
    "## Step 3.a.: Compute the estimates using MLE or MoM. Code the estimators as functions. \n",
    "function mle_mean_normal(samples)\n",
    "    return mean(samples)\n",
    "end\n",
    "\n",
    "function mle_std_normal(samples)\n",
    "    return std(samples)\n",
    "end"
   ]
  },
  {
   "cell_type": "code",
   "execution_count": 8,
   "id": "7d736dfe-31a8-48bd-9363-1a447afe4236",
   "metadata": {},
   "outputs": [],
   "source": [
    "## Step 3.b. They should be the same in this case"
   ]
  },
  {
   "cell_type": "code",
   "execution_count": 9,
   "id": "e5e390f0-a282-406d-a111-5da076f45293",
   "metadata": {},
   "outputs": [
    {
     "ename": "UndefVarError",
     "evalue": "UndefVarError: X not defined",
     "output_type": "error",
     "traceback": [
      "UndefVarError: X not defined\n",
      "\n",
      "Stacktrace:\n",
      " [1] top-level scope\n",
      "   @ c:\\Users\\Justine\\Desktop\\Codes\\173\\MP1.ipynb:2"
     ]
    }
   ],
   "source": [
    "## Step 4.a\n",
    "μ̂ = mle_mean_normal(X)\n",
    "σ̂ = mle_std_normal(X)\n",
    "sim_d = Normal(μ̂,σ̂)\n",
    "X̂ = rand(sim_d, 10000);"
   ]
  },
  {
   "cell_type": "code",
   "execution_count": 10,
   "id": "293455e0-c89c-4244-b787-d19092f2a9f4",
   "metadata": {},
   "outputs": [
    {
     "ename": "UndefVarError",
     "evalue": "UndefVarError: X not defined",
     "output_type": "error",
     "traceback": [
      "UndefVarError: X not defined\n",
      "\n",
      "Stacktrace:\n",
      " [1] top-level scope\n",
      "   @ c:\\Users\\Justine\\Desktop\\Codes\\173\\MP1.ipynb:2"
     ]
    }
   ],
   "source": [
    "## Step 4.b\n",
    "plot_reconstruction(X, X̂)\n",
    "if_dist_different(X, X̂)"
   ]
  },
  {
   "cell_type": "code",
   "execution_count": 11,
   "id": "1f70efe8-7e26-4238-8ec8-f58482ea43a4",
   "metadata": {},
   "outputs": [],
   "source": [
    "## Step 5. The test suggests that the two datasets are drawn from the same distribution. Thus, we will propose the estimates derived by the MLE and MoM"
   ]
  },
  {
   "cell_type": "markdown",
   "id": "6fedf149-d51c-4a49-bba0-aa4392907c35",
   "metadata": {},
   "source": [
    "# Exercise 1"
   ]
  },
  {
   "cell_type": "code",
   "execution_count": 12,
   "id": "55fc8612-5752-484d-96a8-b3c4e84ed8ba",
   "metadata": {},
   "outputs": [
    {
     "ename": "UndefVarError",
     "evalue": "UndefVarError: CSV not defined",
     "output_type": "error",
     "traceback": [
      "UndefVarError: CSV not defined\n",
      "\n",
      "Stacktrace:\n",
      " [1] top-level scope\n",
      "   @ c:\\Users\\Justine\\Desktop\\Codes\\173\\MP1.ipynb:1"
     ]
    }
   ],
   "source": [
    "dataset = CSV.read(\"ex1_data.csv\", DataFrame);"
   ]
  },
  {
   "cell_type": "markdown",
   "id": "bde763b2-0392-4580-806b-2425d075fbc7",
   "metadata": {},
   "source": [
    "# Exercise 2"
   ]
  },
  {
   "cell_type": "code",
   "execution_count": 13,
   "id": "92385542-1852-48ed-b2f3-91d054e9ee22",
   "metadata": {},
   "outputs": [
    {
     "ename": "UndefVarError",
     "evalue": "UndefVarError: CSV not defined",
     "output_type": "error",
     "traceback": [
      "UndefVarError: CSV not defined\n",
      "\n",
      "Stacktrace:\n",
      " [1] top-level scope\n",
      "   @ c:\\Users\\Justine\\Desktop\\Codes\\173\\MP1.ipynb:1"
     ]
    }
   ],
   "source": [
    "dataset = CSV.read(\"ex2_data.csv\", DataFrame);"
   ]
  },
  {
   "cell_type": "markdown",
   "id": "2344ca27-3473-445a-806d-c04072893117",
   "metadata": {},
   "source": [
    "# Exercise 3"
   ]
  },
  {
   "cell_type": "code",
   "execution_count": 14,
   "id": "7244c097-7b74-496b-b2a2-2b74f5496f9b",
   "metadata": {},
   "outputs": [
    {
     "ename": "UndefVarError",
     "evalue": "UndefVarError: CSV not defined",
     "output_type": "error",
     "traceback": [
      "UndefVarError: CSV not defined\n",
      "\n",
      "Stacktrace:\n",
      " [1] top-level scope\n",
      "   @ c:\\Users\\Justine\\Desktop\\Codes\\173\\MP1.ipynb:1"
     ]
    }
   ],
   "source": [
    "dataset = CSV.read(\"ex3_data.csv\", DataFrame);"
   ]
  },
  {
   "cell_type": "markdown",
   "id": "3e7b5def-d5ac-4137-bb4b-f5a022b4f021",
   "metadata": {},
   "source": [
    "# Exercise 4"
   ]
  },
  {
   "cell_type": "code",
   "execution_count": 4,
   "id": "a0cce8bd-ea02-4cc8-8311-949e29fe1477",
   "metadata": {},
   "outputs": [
    {
     "ename": "UndefVarError",
     "evalue": "UndefVarError: CSV not defined",
     "output_type": "error",
     "traceback": [
      "UndefVarError: CSV not defined\n",
      "\n",
      "Stacktrace:\n",
      " [1] top-level scope\n",
      "   @ c:\\Users\\Justine\\Desktop\\Codes\\173\\MP1.ipynb:1"
     ]
    }
   ],
   "source": [
    "dataset = CSV.read(\"ex4_data.csv\", DataFrame);"
   ]
  },
  {
   "cell_type": "markdown",
   "id": "17ba1f7a-d4e7-4ca6-9e40-6c2dc87c8874",
   "metadata": {},
   "source": [
    "# Exercise 5"
   ]
  },
  {
   "cell_type": "code",
   "execution_count": 16,
   "id": "d93865db-0a77-46cb-9810-744ff8f3b28d",
   "metadata": {},
   "outputs": [
    {
     "ename": "UndefVarError",
     "evalue": "UndefVarError: CSV not defined",
     "output_type": "error",
     "traceback": [
      "UndefVarError: CSV not defined\n",
      "\n",
      "Stacktrace:\n",
      " [1] top-level scope\n",
      "   @ c:\\Users\\Justine\\Desktop\\Codes\\173\\MP1.ipynb:1"
     ]
    }
   ],
   "source": [
    "dataset = CSV.read(\"ex5_data.csv\", DataFrame);"
   ]
  }
 ],
 "metadata": {
  "kernelspec": {
   "display_name": "Julia 1.6.7",
   "language": "julia",
   "name": "julia-1.6"
  },
  "language_info": {
   "file_extension": ".jl",
   "mimetype": "application/julia",
   "name": "julia",
   "version": "1.6.7"
  }
 },
 "nbformat": 4,
 "nbformat_minor": 5
}
